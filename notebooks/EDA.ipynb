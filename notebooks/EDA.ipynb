{
 "cells": [
  {
   "cell_type": "markdown",
   "metadata": {},
   "source": [
    "# Laptop Price Prediction - Exploratory Data Analysis\n",
    "\n",
    "This notebook explores the laptop dataset and performs feature engineering for price prediction."
   ]
  },
  {
   "cell_type": "code",
   "execution_count": null,
   "metadata": {},
   "outputs": [],
   "source": [
    "import pandas as pd\n",
    "import numpy as np\n",
    "import matplotlib.pyplot as plt\n",
    "import seaborn as sns\n",
    "import sys\n",
    "import os\n",
    "\n",
    "# Add parent directory to path\n",
    "sys.path.append('..')\n",
    "\n",
    "from src.utils import load_data, save_data\n",
    "from src.data_preprocessing import DataPreprocessor\n",
    "\n",
    "# Set style\n",
    "plt.style.use('seaborn-v0_8-darkgrid')\n",
    "sns.set_palette('husl')\n",
    "\n",
    "# Display settings\n",
    "pd.set_option('display.max_columns', None)\n",
    "pd.set_option('display.max_rows', 100)"
   ]
  },
  {
   "cell_type": "markdown",
   "metadata": {},
   "source": [
    "## 1. Load Data"
   ]
  },
  {
   "cell_type": "code",
   "execution_count": null,
   "metadata": {},
   "outputs": [],
   "source": [
    "# Load or create dataset\n",
    "data_path = '../data/laptop_data.csv'\n",
    "if os.path.exists(data_path):\n",
    "    df = pd.read_csv(data_path)\n",
    "else:\n",
    "    df = load_data()\n",
    "    os.makedirs('../data', exist_ok=True)\n",
    "    save_data(df, data_path)\n",
    "\n",
    "print(f\"Dataset shape: {df.shape}\")\n",
    "df.head()"
   ]
  },
  {
   "cell_type": "markdown",
   "metadata": {},
   "source": [
    "## 2. Data Overview"
   ]
  },
  {
   "cell_type": "code",
   "execution_count": null,
   "metadata": {},
   "outputs": [],
   "source": [
    "# Basic info\n",
    "df.info()"
   ]
  },
  {
   "cell_type": "code",
   "execution_count": null,
   "metadata": {},
   "outputs": [],
   "source": [
    "# Statistical summary\n",
    "df.describe()"
   ]
  },
  {
   "cell_type": "code",
   "execution_count": null,
   "metadata": {},
   "outputs": [],
   "source": [
    "# Check for missing values\n",
    "df.isnull().sum()"
   ]
  },
  {
   "cell_type": "markdown",
   "metadata": {},
   "source": [
    "## 3. Price Distribution Analysis"
   ]
  },
  {
   "cell_type": "code",
   "execution_count": null,
   "metadata": {},
   "outputs": [],
   "source": [
    "# Price distribution\n",
    "fig, axes = plt.subplots(1, 2, figsize=(15, 5))\n",
    "\n",
    "# Histogram\n",
    "axes[0].hist(df['price'], bins=30, edgecolor='black', alpha=0.7)\n",
    "axes[0].set_xlabel('Price ($)')\n",
    "axes[0].set_ylabel('Frequency')\n",
    "axes[0].set_title('Price Distribution')\n",
    "axes[0].axvline(df['price'].mean(), color='red', linestyle='--', label=f\"Mean: ${df['price'].mean():.2f}\")\n",
    "axes[0].axvline(df['price'].median(), color='green', linestyle='--', label=f\"Median: ${df['price'].median():.2f}\")\n",
    "axes[0].legend()\n",
    "\n",
    "# Box plot\n",
    "axes[1].boxplot(df['price'], vert=True)\n",
    "axes[1].set_ylabel('Price ($)')\n",
    "axes[1].set_title('Price Box Plot')\n",
    "\n",
    "plt.tight_layout()\n",
    "plt.show()\n",
    "\n",
    "print(f\"Price Statistics:\")\n",
    "print(f\"  Mean: ${df['price'].mean():.2f}\")\n",
    "print(f\"  Median: ${df['price'].median():.2f}\")\n",
    "print(f\"  Std Dev: ${df['price'].std():.2f}\")\n",
    "print(f\"  Min: ${df['price'].min():.2f}\")\n",
    "print(f\"  Max: ${df['price'].max():.2f}\")"
   ]
  },
  {
   "cell_type": "markdown",
   "metadata": {},
   "source": [
    "## 4. Brand Analysis"
   ]
  },
  {
   "cell_type": "code",
   "execution_count": null,
   "metadata": {},
   "outputs": [],
   "source": [
    "# Brand distribution and prices\n",
    "fig, axes = plt.subplots(1, 2, figsize=(15, 5))\n",
    "\n",
    "# Brand count\n",
    "brand_counts = df['brand'].value_counts()\n",
    "axes[0].bar(brand_counts.index, brand_counts.values)\n",
    "axes[0].set_xlabel('Brand')\n",
    "axes[0].set_ylabel('Count')\n",
    "axes[0].set_title('Laptop Count by Brand')\n",
    "axes[0].tick_params(axis='x', rotation=45)\n",
    "\n",
    "# Average price by brand\n",
    "brand_avg_price = df.groupby('brand')['price'].mean().sort_values(ascending=False)\n",
    "axes[1].bar(brand_avg_price.index, brand_avg_price.values)\n",
    "axes[1].set_xlabel('Brand')\n",
    "axes[1].set_ylabel('Average Price ($)')\n",
    "axes[1].set_title('Average Price by Brand')\n",
    "axes[1].tick_params(axis='x', rotation=45)\n",
    "\n",
    "plt.tight_layout()\n",
    "plt.show()"
   ]
  },
  {
   "cell_type": "markdown",
   "metadata": {},
   "source": [
    "## 5. Specifications Analysis"
   ]
  },
  {
   "cell_type": "code",
   "execution_count": null,
   "metadata": {},
   "outputs": [],
   "source": [
    "# RAM and Storage analysis\n",
    "fig, axes = plt.subplots(2, 2, figsize=(15, 12))\n",
    "\n",
    "# RAM distribution\n",
    "ram_counts = df['ram'].value_counts().sort_index()\n",
    "axes[0, 0].bar(ram_counts.index, ram_counts.values)\n",
    "axes[0, 0].set_xlabel('RAM')\n",
    "axes[0, 0].set_ylabel('Count')\n",
    "axes[0, 0].set_title('RAM Distribution')\n",
    "\n",
    "# Price by RAM\n",
    "ram_price = df.groupby('ram')['price'].mean().sort_index()\n",
    "axes[0, 1].bar(ram_price.index, ram_price.values)\n",
    "axes[0, 1].set_xlabel('RAM')\n",
    "axes[0, 1].set_ylabel('Average Price ($)')\n",
    "axes[0, 1].set_title('Average Price by RAM')\n",
    "\n",
    "# Storage distribution\n",
    "storage_counts = df['storage'].value_counts().sort_index()\n",
    "axes[1, 0].bar(range(len(storage_counts)), storage_counts.values)\n",
    "axes[1, 0].set_xticks(range(len(storage_counts)))\n",
    "axes[1, 0].set_xticklabels(storage_counts.index, rotation=45)\n",
    "axes[1, 0].set_xlabel('Storage')\n",
    "axes[1, 0].set_ylabel('Count')\n",
    "axes[1, 0].set_title('Storage Distribution')\n",
    "\n",
    "# Price by Storage\n",
    "storage_price = df.groupby('storage')['price'].mean().sort_index()\n",
    "axes[1, 1].bar(range(len(storage_price)), storage_price.values)\n",
    "axes[1, 1].set_xticks(range(len(storage_price)))\n",
    "axes[1, 1].set_xticklabels(storage_price.index, rotation=45)\n",
    "axes[1, 1].set_xlabel('Storage')\n",
    "axes[1, 1].set_ylabel('Average Price ($)')\n",
    "axes[1, 1].set_title('Average Price by Storage')\n",
    "\n",
    "plt.tight_layout()\n",
    "plt.show()"
   ]
  },
  {
   "cell_type": "markdown",
   "metadata": {},
   "source": [
    "## 6. Feature Engineering"
   ]
  },
  {
   "cell_type": "code",
   "execution_count": null,
   "metadata": {},
   "outputs": [],
   "source": [
    "# Apply preprocessing\n",
    "preprocessor = DataPreprocessor()\n",
    "df_processed = preprocessor.preprocess_data(df)\n",
    "\n",
    "print(\"Processed Features:\")\n",
    "print(df_processed.columns.tolist())\n",
    "\n",
    "df_processed.head()"
   ]
  },
  {
   "cell_type": "markdown",
   "metadata": {},
   "source": [
    "## 7. Correlation Analysis"
   ]
  },
  {
   "cell_type": "code",
   "execution_count": null,
   "metadata": {},
   "outputs": [],
   "source": [
    "# Select numeric features for correlation\n",
    "numeric_features = ['ram_gb', 'storage_gb', 'screen_inches', 'processor_gen', 'price']\n",
    "available_features = [f for f in numeric_features if f in df_processed.columns]\n",
    "\n",
    "if len(available_features) > 1:\n",
    "    # Correlation matrix\n",
    "    corr_matrix = df_processed[available_features].corr()\n",
    "    \n",
    "    plt.figure(figsize=(10, 8))\n",
    "    sns.heatmap(corr_matrix, annot=True, cmap='coolwarm', center=0, \n",
    "                square=True, linewidths=1, cbar_kws={\"shrink\": 0.8})\n",
    "    plt.title('Feature Correlation Matrix')\n",
    "    plt.tight_layout()\n",
    "    plt.show()\n",
    "    \n",
    "    # Correlation with price\n",
    "    if 'price' in available_features:\n",
    "        price_corr = corr_matrix['price'].sort_values(ascending=False)\n",
    "        print(\"\\nCorrelation with Price:\")\n",
    "        print(price_corr)"
   ]
  },
  {
   "cell_type": "markdown",
   "metadata": {},
   "source": [
    "## 8. Processor and GPU Analysis"
   ]
  },
  {
   "cell_type": "code",
   "execution_count": null,
   "metadata": {},
   "outputs": [],
   "source": [
    "# Processor analysis\n",
    "fig, axes = plt.subplots(1, 2, figsize=(15, 5))\n",
    "\n",
    "# Top processors by average price\n",
    "processor_price = df.groupby('processor')['price'].mean().sort_values(ascending=False).head(10)\n",
    "axes[0].barh(processor_price.index, processor_price.values)\n",
    "axes[0].set_xlabel('Average Price ($)')\n",
    "axes[0].set_ylabel('Processor')\n",
    "axes[0].set_title('Top 10 Processors by Average Price')\n",
    "\n",
    "# GPU analysis\n",
    "gpu_price = df.groupby('gpu')['price'].mean().sort_values(ascending=False)\n",
    "axes[1].barh(gpu_price.index, gpu_price.values)\n",
    "axes[1].set_xlabel('Average Price ($)')\n",
    "axes[1].set_ylabel('GPU')\n",
    "axes[1].set_title('Average Price by GPU')\n",
    "\n",
    "plt.tight_layout()\n",
    "plt.show()"
   ]
  },
  {
   "cell_type": "markdown",
   "metadata": {},
   "source": [
    "## 9. Scatter Plots - Price Relationships"
   ]
  },
  {
   "cell_type": "code",
   "execution_count": null,
   "metadata": {},
   "outputs": [],
   "source": [
    "# Create scatter plots\n",
    "fig, axes = plt.subplots(2, 2, figsize=(15, 12))\n",
    "\n",
    "# Price vs RAM\n",
    "if 'ram_gb' in df_processed.columns:\n",
    "    axes[0, 0].scatter(df_processed['ram_gb'], df_processed['price'], alpha=0.6)\n",
    "    axes[0, 0].set_xlabel('RAM (GB)')\n",
    "    axes[0, 0].set_ylabel('Price ($)')\n",
    "    axes[0, 0].set_title('Price vs RAM')\n",
    "\n",
    "# Price vs Storage\n",
    "if 'storage_gb' in df_processed.columns:\n",
    "    axes[0, 1].scatter(df_processed['storage_gb'], df_processed['price'], alpha=0.6)\n",
    "    axes[0, 1].set_xlabel('Storage (GB)')\n",
    "    axes[0, 1].set_ylabel('Price ($)')\n",
    "    axes[0, 1].set_title('Price vs Storage')\n",
    "\n",
    "# Price vs Screen Size\n",
    "if 'screen_inches' in df_processed.columns:\n",
    "    axes[1, 0].scatter(df_processed['screen_inches'], df_processed['price'], alpha=0.6)\n",
    "    axes[1, 0].set_xlabel('Screen Size (inches)')\n",
    "    axes[1, 0].set_ylabel('Price ($)')\n",
    "    axes[1, 0].set_title('Price vs Screen Size')\n",
    "\n",
    "# Price vs Processor Generation\n",
    "if 'processor_gen' in df_processed.columns:\n",
    "    axes[1, 1].scatter(df_processed['processor_gen'], df_processed['price'], alpha=0.6)\n",
    "    axes[1, 1].set_xlabel('Processor Generation')\n",
    "    axes[1, 1].set_ylabel('Price ($)')\n",
    "    axes[1, 1].set_title('Price vs Processor Generation')\n",
    "\n",
    "plt.tight_layout()\n",
    "plt.show()"
   ]
  },
  {
   "cell_type": "markdown",
   "metadata": {},
   "source": [
    "## 10. Summary Statistics"
   ]
  },
  {
   "cell_type": "code",
   "execution_count": null,
   "metadata": {},
   "outputs": [],
   "source": [
    "print(\"\\n\" + \"=\"*50)\n",
    "print(\"DATASET SUMMARY\")\n",
    "print(\"=\"*50)\n",
    "\n",
    "print(f\"\\nTotal Laptops: {len(df)}\")\n",
    "print(f\"Number of Brands: {df['brand'].nunique()}\")\n",
    "print(f\"Number of Processors: {df['processor'].nunique()}\")\n",
    "print(f\"Number of GPUs: {df['gpu'].nunique()}\")\n",
    "\n",
    "print(f\"\\nPrice Range: ${df['price'].min():.2f} - ${df['price'].max():.2f}\")\n",
    "print(f\"Average Price: ${df['price'].mean():.2f}\")\n",
    "print(f\"Median Price: ${df['price'].median():.2f}\")\n",
    "\n",
    "print(\"\\nMost Common Specifications:\")\n",
    "print(f\"  RAM: {df['ram'].mode()[0]}\")\n",
    "print(f\"  Storage: {df['storage'].mode()[0]}\")\n",
    "print(f\"  Screen Size: {df['screen_size'].mode()[0]}\")\n",
    "print(f\"  Brand: {df['brand'].mode()[0]}\")"
   ]
  }
 ],
 "metadata": {
  "kernelspec": {
   "display_name": "Python 3",
   "language": "python",
   "name": "python3"
  },
  "language_info": {
   "codemirror_mode": {
    "name": "ipython",
    "version": 3
   },
   "file_extension": ".py",
   "mimetype": "text/x-python",
   "name": "python",
   "nbconvert_exporter": "python",
   "pygments_lexer": "ipython3",
   "version": "3.8.0"
  }
 },
 "nbformat": 4,
 "nbformat_minor": 4
}
